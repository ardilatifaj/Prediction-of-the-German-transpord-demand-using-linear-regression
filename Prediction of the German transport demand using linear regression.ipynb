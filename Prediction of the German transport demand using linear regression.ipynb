{
 "cells": [
  {
   "cell_type": "markdown",
   "id": "e677aa0c",
   "metadata": {},
   "source": [
    "## Prediction of the German transport demand for 2050 using Linear Regression"
   ]
  },
  {
   "cell_type": "code",
   "execution_count": 1,
   "id": "b72ea865",
   "metadata": {},
   "outputs": [
    {
     "data": {
      "image/png": "[encoded data removed]",
      "text/plain": [
       "<Figure size 720x180 with 1 Axes>"
      ]
     },
     "metadata": {
      "needs_background": "light"
     },
     "output_type": "display_data"
    }
   ],
   "source": [
    "#Importing the packages\n",
    "import pandas as pd, numpy as np\n",
    "import matplotlib.pyplot as plt\n",
    "from sklearn.linear_model import LinearRegression\n",
    "from sklearn.metrics import r2_score\n",
    "\n",
    "# Upload the data\n",
    "header = ['year', 'tdemand'] # changing the headers\n",
    "dtypes = {'year':'str', 'tdemand':'float'} # changing the dtypes from object to strings and float\n",
    "df = pd.read_csv('Data_Task_MA.csv', sep=';', header=0, names=header, dtype=dtypes)\n",
    "\n",
    "# Plotting the graph and identifying outliers\n",
    "x = df['year']\n",
    "y = df['tdemand']\n",
    "plt.figure(figsize=(10,2.5))    \n",
    "plt.plot(x, y)\n",
    "plt.xticks(x[::1],  rotation='horizontal')\n",
    "plt.show()"
   ]
  },
  {
   "cell_type": "code",
   "execution_count": 2,
   "id": "712e155c",
   "metadata": {},
   "outputs": [
    {
     "data": {
      "text/html": [
       "<div>\n",
       "<style scoped>\n",
       "    .dataframe tbody tr th:only-of-type {\n",
       "        vertical-align: middle;\n",
       "    }\n",
       "\n",
       "    .dataframe tbody tr th {\n",
       "        vertical-align: top;\n",
       "    }\n",
       "\n",
       "    .dataframe thead th {\n",
       "        text-align: right;\n",
       "    }\n",
       "</style>\n",
       "<table border=\"1\" class=\"dataframe\">\n",
       "  <thead>\n",
       "    <tr style=\"text-align: right;\">\n",
       "      <th></th>\n",
       "      <th>tdemand</th>\n",
       "    </tr>\n",
       "  </thead>\n",
       "  <tbody>\n",
       "    <tr>\n",
       "      <th>count</th>\n",
       "      <td>1.800000e+01</td>\n",
       "    </tr>\n",
       "    <tr>\n",
       "      <th>mean</th>\n",
       "      <td>1.060272e+12</td>\n",
       "    </tr>\n",
       "    <tr>\n",
       "      <th>std</th>\n",
       "      <td>2.707290e+11</td>\n",
       "    </tr>\n",
       "    <tr>\n",
       "      <th>min</th>\n",
       "      <td>1.099000e+05</td>\n",
       "    </tr>\n",
       "    <tr>\n",
       "      <th>25%</th>\n",
       "      <td>1.094175e+12</td>\n",
       "    </tr>\n",
       "    <tr>\n",
       "      <th>50%</th>\n",
       "      <td>1.124450e+12</td>\n",
       "    </tr>\n",
       "    <tr>\n",
       "      <th>75%</th>\n",
       "      <td>1.160275e+12</td>\n",
       "    </tr>\n",
       "    <tr>\n",
       "      <th>max</th>\n",
       "      <td>1.204800e+12</td>\n",
       "    </tr>\n",
       "  </tbody>\n",
       "</table>\n",
       "</div>"
      ],
      "text/plain": [
       "            tdemand\n",
       "count  1.800000e+01\n",
       "mean   1.060272e+12\n",
       "std    2.707290e+11\n",
       "min    1.099000e+05\n",
       "25%    1.094175e+12\n",
       "50%    1.124450e+12\n",
       "75%    1.160275e+12\n",
       "max    1.204800e+12"
      ]
     },
     "execution_count": 2,
     "metadata": {},
     "output_type": "execute_result"
    }
   ],
   "source": [
    "# discriptive stat\n",
    "df.describe()"
   ]
  },
  {
   "cell_type": "markdown",
   "id": "0773e64d",
   "metadata": {},
   "source": [
    "### We use this model: Demand = β0 + β1*Year + e"
   ]
  },
  {
   "cell_type": "code",
   "execution_count": 3,
   "id": "fd2902b0",
   "metadata": {},
   "outputs": [
    {
     "data": {
      "text/plain": [
       "array([9.33280134e+11, 9.48220380e+11, 9.63160627e+11, 9.78100873e+11,\n",
       "       9.93041119e+11, 1.00798137e+12, 1.02292161e+12, 1.03786186e+12,\n",
       "       1.05280211e+12, 1.06774235e+12, 1.08268260e+12, 1.09762284e+12,\n",
       "       1.11256309e+12, 1.12750334e+12, 1.14244358e+12, 1.15738383e+12,\n",
       "       1.17232408e+12, 1.18726432e+12])"
      ]
     },
     "execution_count": 3,
     "metadata": {},
     "output_type": "execute_result"
    }
   ],
   "source": [
    "# Prediction 1\n",
    "x=df.iloc[:,:-1].values  # arrange the dataframes so that we can run the regression\n",
    "y=df.iloc[:,1].values  # same as above\n",
    "\n",
    "# Prepare the linear regression model\n",
    "model = LinearRegression() # we call it 'model'\n",
    "model.fit(x, y) \n",
    "\n",
    "y_pred = model.predict(x)\n",
    "y_pred "
   ]
  },
  {
   "cell_type": "code",
   "execution_count": 4,
   "id": "36664ca3",
   "metadata": {},
   "outputs": [
    {
     "data": {
      "image/png": "[encoded data removed]",
      "text/plain": [
       "<Figure size 432x288 with 1 Axes>"
      ]
     },
     "metadata": {
      "needs_background": "light"
     },
     "output_type": "display_data"
    }
   ],
   "source": [
    "# Plot the real and the predicted trend\n",
    "plt.scatter([[x]], [[y]],  color='grey')\n",
    "plt.scatter([[x]], [[y_pred]],  color='blue')\n",
    "plt.xlabel('year')\n",
    "plt.ylabel('tdemand')\n",
    "plt.title('Real trend vs Forecast trend')\n",
    "plt.show()"
   ]
  },
  {
   "cell_type": "markdown",
   "id": "bae59fed",
   "metadata": {},
   "source": [
    "### Transportation demand forecast for 2050"
   ]
  },
  {
   "cell_type": "code",
   "execution_count": 5,
   "id": "b9a24c7a",
   "metadata": {},
   "outputs": [
    {
     "data": {
      "text/plain": [
       "array([1.63547172e+12])"
      ]
     },
     "execution_count": 5,
     "metadata": {},
     "output_type": "execute_result"
    }
   ],
   "source": [
    "# Forecast the transportation demad for 2050\n",
    "forecast_2050 = model.predict([[2050]])\n",
    "forecast_2050 # the model tells that in 2050 transport demand will be 1.63547172e+12 km"
   ]
  },
  {
   "cell_type": "code",
   "execution_count": 6,
   "id": "480b345f",
   "metadata": {},
   "outputs": [
    {
     "data": {
      "text/plain": [
       "(array([1.49402464e+10]), -28992033466509.848)"
      ]
     },
     "execution_count": 6,
     "metadata": {},
     "output_type": "execute_result"
    }
   ],
   "source": [
    "# Show the coefficient y and the intercept\n",
    "model.coef_, model.intercept_"
   ]
  },
  {
   "cell_type": "code",
   "execution_count": 8,
   "id": "dff254d9",
   "metadata": {},
   "outputs": [
    {
     "data": {
      "text/plain": [
       "0.0867942148688291"
      ]
     },
     "execution_count": 8,
     "metadata": {},
     "output_type": "execute_result"
    }
   ],
   "source": [
    "# R-squred, to show how well the model is explained\n",
    "rsq = r2_score(y, y_pred)\n",
    "rsq"
   ]
  },
  {
   "cell_type": "code",
   "execution_count": 9,
   "id": "9a783c7b",
   "metadata": {},
   "outputs": [
    {
     "data": {
      "text/html": [
       "<div>\n",
       "<style scoped>\n",
       "    .dataframe tbody tr th:only-of-type {\n",
       "        vertical-align: middle;\n",
       "    }\n",
       "\n",
       "    .dataframe tbody tr th {\n",
       "        vertical-align: top;\n",
       "    }\n",
       "\n",
       "    .dataframe thead th {\n",
       "        text-align: right;\n",
       "    }\n",
       "</style>\n",
       "<table border=\"1\" class=\"dataframe\">\n",
       "  <thead>\n",
       "    <tr style=\"text-align: right;\">\n",
       "      <th></th>\n",
       "      <th>Actual</th>\n",
       "      <th>Predicted</th>\n",
       "    </tr>\n",
       "  </thead>\n",
       "  <tbody>\n",
       "    <tr>\n",
       "      <th>0</th>\n",
       "      <td>1.066100e+12</td>\n",
       "      <td>9.332801e+11</td>\n",
       "    </tr>\n",
       "    <tr>\n",
       "      <th>1</th>\n",
       "      <td>1.091200e+12</td>\n",
       "      <td>9.482204e+11</td>\n",
       "    </tr>\n",
       "    <tr>\n",
       "      <th>2</th>\n",
       "      <td>1.087600e+12</td>\n",
       "      <td>9.631606e+11</td>\n",
       "    </tr>\n",
       "    <tr>\n",
       "      <th>3</th>\n",
       "      <td>1.099000e+05</td>\n",
       "      <td>9.781009e+11</td>\n",
       "    </tr>\n",
       "    <tr>\n",
       "      <th>4</th>\n",
       "      <td>1.103100e+12</td>\n",
       "      <td>9.930411e+11</td>\n",
       "    </tr>\n",
       "    <tr>\n",
       "      <th>5</th>\n",
       "      <td>1.111500e+12</td>\n",
       "      <td>1.007981e+12</td>\n",
       "    </tr>\n",
       "    <tr>\n",
       "      <th>6</th>\n",
       "      <td>1.117900e+12</td>\n",
       "      <td>1.022922e+12</td>\n",
       "    </tr>\n",
       "    <tr>\n",
       "      <th>7</th>\n",
       "      <td>1.117200e+12</td>\n",
       "      <td>1.037862e+12</td>\n",
       "    </tr>\n",
       "    <tr>\n",
       "      <th>8</th>\n",
       "      <td>1.131000e+12</td>\n",
       "      <td>1.052802e+12</td>\n",
       "    </tr>\n",
       "    <tr>\n",
       "      <th>9</th>\n",
       "      <td>1.135600e+12</td>\n",
       "      <td>1.067742e+12</td>\n",
       "    </tr>\n",
       "    <tr>\n",
       "      <th>10</th>\n",
       "      <td>1.144500e+12</td>\n",
       "      <td>1.082683e+12</td>\n",
       "    </tr>\n",
       "    <tr>\n",
       "      <th>11</th>\n",
       "      <td>1.163500e+12</td>\n",
       "      <td>1.097623e+12</td>\n",
       "    </tr>\n",
       "    <tr>\n",
       "      <th>12</th>\n",
       "      <td>1.180800e+12</td>\n",
       "      <td>1.112563e+12</td>\n",
       "    </tr>\n",
       "    <tr>\n",
       "      <th>13</th>\n",
       "      <td>1.204800e+12</td>\n",
       "      <td>1.127503e+12</td>\n",
       "    </tr>\n",
       "    <tr>\n",
       "      <th>14</th>\n",
       "      <td>1.155100e+12</td>\n",
       "      <td>1.142444e+12</td>\n",
       "    </tr>\n",
       "    <tr>\n",
       "      <th>15</th>\n",
       "      <td>1.162000e+12</td>\n",
       "      <td>1.157384e+12</td>\n",
       "    </tr>\n",
       "    <tr>\n",
       "      <th>16</th>\n",
       "      <td>1.170200e+12</td>\n",
       "      <td>1.172324e+12</td>\n",
       "    </tr>\n",
       "    <tr>\n",
       "      <th>17</th>\n",
       "      <td>9.428000e+11</td>\n",
       "      <td>1.187264e+12</td>\n",
       "    </tr>\n",
       "  </tbody>\n",
       "</table>\n",
       "</div>"
      ],
      "text/plain": [
       "          Actual     Predicted\n",
       "0   1.066100e+12  9.332801e+11\n",
       "1   1.091200e+12  9.482204e+11\n",
       "2   1.087600e+12  9.631606e+11\n",
       "3   1.099000e+05  9.781009e+11\n",
       "4   1.103100e+12  9.930411e+11\n",
       "5   1.111500e+12  1.007981e+12\n",
       "6   1.117900e+12  1.022922e+12\n",
       "7   1.117200e+12  1.037862e+12\n",
       "8   1.131000e+12  1.052802e+12\n",
       "9   1.135600e+12  1.067742e+12\n",
       "10  1.144500e+12  1.082683e+12\n",
       "11  1.163500e+12  1.097623e+12\n",
       "12  1.180800e+12  1.112563e+12\n",
       "13  1.204800e+12  1.127503e+12\n",
       "14  1.155100e+12  1.142444e+12\n",
       "15  1.162000e+12  1.157384e+12\n",
       "16  1.170200e+12  1.172324e+12\n",
       "17  9.428000e+11  1.187264e+12"
      ]
     },
     "execution_count": 9,
     "metadata": {},
     "output_type": "execute_result"
    }
   ],
   "source": [
    "# Comparison between the real data and the predicted data\n",
    "\n",
    "df1 = pd.DataFrame({'Actual': y, 'Predicted': y_pred }) # put bot y and y_pred in the same dataframe\n",
    "df1"
   ]
  }
 ],
 "metadata": {
  "kernelspec": {
   "display_name": "Python 3",
   "language": "python",
   "name": "python3"
  },
  "language_info": {
   "codemirror_mode": {
    "name": "ipython",
    "version": 3
   },
   "file_extension": ".py",
   "mimetype": "text/x-python",
   "name": "python",
   "nbconvert_exporter": "python",
   "pygments_lexer": "ipython3",
   "version": "3.8.8"
  }
 },
 "nbformat": 4,
 "nbformat_minor": 5
}
